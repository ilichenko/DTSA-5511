{
 "cells": [
  {
   "cell_type": "markdown",
   "id": "45d9394c",
   "metadata": {},
   "source": [
    "# NLP Disaster Tweets Kaggle Mini-Project\n",
    "**GitHub Repository**: https://github.com/ilichenko/DTSA-5511\n",
    "\n",
    "Useful guide on how to install TensorFlow in Jupyter Notebook: https://how.dev/answers/how-to-install-tensorflow-in-jupyter-notebook"
   ]
  },
  {
   "cell_type": "markdown",
   "id": "44b1cac5",
   "metadata": {},
   "source": [
    "## 1. Introduction\n",
    "### 1.1. Problem Statement\n",
    "This study involves analyzing short messages posted on Twitter and predicting whether they refer to real disasters. Tweets that are actual disaster reports should be classified as `1`, while irrelevant or sarcastic mentions should be labeled `0`. This problem is framed as a binary classification task.\n",
    "\n",
    "### 1.2. Study Objective\n",
    "The primary objective is to evaluate and compare machine learning models for textual data. We aim to construct a reliable classifier that can predict the target label with strong generalization ability.\n",
    "\n",
    "### 1.3. Dataset Overview\n",
    "The dataset contains the following:\n",
    "- **train.csv**: Labeled training tweets with binary target values.\n",
    "- **test.csv**: Unlabeled tweets for which predictions are required.\n",
    "  \n",
    "Each record includes the tweet text, keyword (if any), and the location of the tweet's origin."
   ]
  },
  {
   "cell_type": "markdown",
   "id": "6a35db92",
   "metadata": {},
   "source": [
    "## 2. Exploratory Data Analysis (EDA)"
   ]
  },
  {
   "cell_type": "markdown",
   "id": "f7469f21-9540-455f-a8c8-2bfbcd7cb570",
   "metadata": {},
   "source": [
    "The following code installs the required libraries and imports the data:"
   ]
  },
  {
   "cell_type": "code",
   "execution_count": 1,
   "id": "f38f1297",
   "metadata": {},
   "outputs": [],
   "source": [
    "import ast\n",
    "import json\n",
    "import numpy as np\n",
    "import pandas as pd\n",
    "import matplotlib.pyplot as plt\n",
    "import seaborn as sns\n",
    "import unicodedata\n",
    "from pathlib import Path\n",
    "from urllib.parse import unquote"
   ]
  },
  {
   "cell_type": "code",
   "execution_count": 68,
   "id": "f31eaac7-b941-4a49-a121-0a65e2d18f34",
   "metadata": {},
   "outputs": [
    {
     "name": "stdout",
     "output_type": "stream",
     "text": [
      "Training set shape: (7613, 5)\n",
      "Test set shape: (3263, 4)\n"
     ]
    },
    {
     "data": {
      "text/html": [
       "<div>\n",
       "<style scoped>\n",
       "    .dataframe tbody tr th:only-of-type {\n",
       "        vertical-align: middle;\n",
       "    }\n",
       "\n",
       "    .dataframe tbody tr th {\n",
       "        vertical-align: top;\n",
       "    }\n",
       "\n",
       "    .dataframe thead th {\n",
       "        text-align: right;\n",
       "    }\n",
       "</style>\n",
       "<table border=\"1\" class=\"dataframe\">\n",
       "  <thead>\n",
       "    <tr style=\"text-align: right;\">\n",
       "      <th></th>\n",
       "      <th>id</th>\n",
       "      <th>keyword</th>\n",
       "      <th>location</th>\n",
       "      <th>text</th>\n",
       "      <th>target</th>\n",
       "    </tr>\n",
       "  </thead>\n",
       "  <tbody>\n",
       "    <tr>\n",
       "      <th>0</th>\n",
       "      <td>1</td>\n",
       "      <td>NaN</td>\n",
       "      <td>NaN</td>\n",
       "      <td>Our Deeds are the Reason of this #earthquake M...</td>\n",
       "      <td>1</td>\n",
       "    </tr>\n",
       "    <tr>\n",
       "      <th>1</th>\n",
       "      <td>4</td>\n",
       "      <td>NaN</td>\n",
       "      <td>NaN</td>\n",
       "      <td>Forest fire near La Ronge Sask. Canada</td>\n",
       "      <td>1</td>\n",
       "    </tr>\n",
       "    <tr>\n",
       "      <th>2</th>\n",
       "      <td>5</td>\n",
       "      <td>NaN</td>\n",
       "      <td>NaN</td>\n",
       "      <td>All residents asked to 'shelter in place' are ...</td>\n",
       "      <td>1</td>\n",
       "    </tr>\n",
       "    <tr>\n",
       "      <th>3</th>\n",
       "      <td>6</td>\n",
       "      <td>NaN</td>\n",
       "      <td>NaN</td>\n",
       "      <td>13,000 people receive #wildfires evacuation or...</td>\n",
       "      <td>1</td>\n",
       "    </tr>\n",
       "    <tr>\n",
       "      <th>4</th>\n",
       "      <td>7</td>\n",
       "      <td>NaN</td>\n",
       "      <td>NaN</td>\n",
       "      <td>Just got sent this photo from Ruby #Alaska as ...</td>\n",
       "      <td>1</td>\n",
       "    </tr>\n",
       "    <tr>\n",
       "      <th>5</th>\n",
       "      <td>8</td>\n",
       "      <td>NaN</td>\n",
       "      <td>NaN</td>\n",
       "      <td>#RockyFire Update =&gt; California Hwy. 20 closed...</td>\n",
       "      <td>1</td>\n",
       "    </tr>\n",
       "    <tr>\n",
       "      <th>6</th>\n",
       "      <td>10</td>\n",
       "      <td>NaN</td>\n",
       "      <td>NaN</td>\n",
       "      <td>#flood #disaster Heavy rain causes flash flood...</td>\n",
       "      <td>1</td>\n",
       "    </tr>\n",
       "    <tr>\n",
       "      <th>7</th>\n",
       "      <td>13</td>\n",
       "      <td>NaN</td>\n",
       "      <td>NaN</td>\n",
       "      <td>I'm on top of the hill and I can see a fire in...</td>\n",
       "      <td>1</td>\n",
       "    </tr>\n",
       "    <tr>\n",
       "      <th>8</th>\n",
       "      <td>14</td>\n",
       "      <td>NaN</td>\n",
       "      <td>NaN</td>\n",
       "      <td>There's an emergency evacuation happening now ...</td>\n",
       "      <td>1</td>\n",
       "    </tr>\n",
       "    <tr>\n",
       "      <th>9</th>\n",
       "      <td>15</td>\n",
       "      <td>NaN</td>\n",
       "      <td>NaN</td>\n",
       "      <td>I'm afraid that the tornado is coming to our a...</td>\n",
       "      <td>1</td>\n",
       "    </tr>\n",
       "    <tr>\n",
       "      <th>10</th>\n",
       "      <td>16</td>\n",
       "      <td>NaN</td>\n",
       "      <td>NaN</td>\n",
       "      <td>Three people died from the heat wave so far</td>\n",
       "      <td>1</td>\n",
       "    </tr>\n",
       "    <tr>\n",
       "      <th>11</th>\n",
       "      <td>17</td>\n",
       "      <td>NaN</td>\n",
       "      <td>NaN</td>\n",
       "      <td>Haha South Tampa is getting flooded hah- WAIT ...</td>\n",
       "      <td>1</td>\n",
       "    </tr>\n",
       "    <tr>\n",
       "      <th>12</th>\n",
       "      <td>18</td>\n",
       "      <td>NaN</td>\n",
       "      <td>NaN</td>\n",
       "      <td>#raining #flooding #Florida #TampaBay #Tampa 1...</td>\n",
       "      <td>1</td>\n",
       "    </tr>\n",
       "    <tr>\n",
       "      <th>13</th>\n",
       "      <td>19</td>\n",
       "      <td>NaN</td>\n",
       "      <td>NaN</td>\n",
       "      <td>#Flood in Bago Myanmar #We arrived Bago</td>\n",
       "      <td>1</td>\n",
       "    </tr>\n",
       "    <tr>\n",
       "      <th>14</th>\n",
       "      <td>20</td>\n",
       "      <td>NaN</td>\n",
       "      <td>NaN</td>\n",
       "      <td>Damage to school bus on 80 in multi car crash ...</td>\n",
       "      <td>1</td>\n",
       "    </tr>\n",
       "    <tr>\n",
       "      <th>15</th>\n",
       "      <td>23</td>\n",
       "      <td>NaN</td>\n",
       "      <td>NaN</td>\n",
       "      <td>What's up man?</td>\n",
       "      <td>0</td>\n",
       "    </tr>\n",
       "    <tr>\n",
       "      <th>16</th>\n",
       "      <td>24</td>\n",
       "      <td>NaN</td>\n",
       "      <td>NaN</td>\n",
       "      <td>I love fruits</td>\n",
       "      <td>0</td>\n",
       "    </tr>\n",
       "    <tr>\n",
       "      <th>17</th>\n",
       "      <td>25</td>\n",
       "      <td>NaN</td>\n",
       "      <td>NaN</td>\n",
       "      <td>Summer is lovely</td>\n",
       "      <td>0</td>\n",
       "    </tr>\n",
       "    <tr>\n",
       "      <th>18</th>\n",
       "      <td>26</td>\n",
       "      <td>NaN</td>\n",
       "      <td>NaN</td>\n",
       "      <td>My car is so fast</td>\n",
       "      <td>0</td>\n",
       "    </tr>\n",
       "    <tr>\n",
       "      <th>19</th>\n",
       "      <td>28</td>\n",
       "      <td>NaN</td>\n",
       "      <td>NaN</td>\n",
       "      <td>What a goooooooaaaaaal!!!!!!</td>\n",
       "      <td>0</td>\n",
       "    </tr>\n",
       "  </tbody>\n",
       "</table>\n",
       "</div>"
      ],
      "text/plain": [
       "    id keyword location                                               text  \\\n",
       "0    1     NaN      NaN  Our Deeds are the Reason of this #earthquake M...   \n",
       "1    4     NaN      NaN             Forest fire near La Ronge Sask. Canada   \n",
       "2    5     NaN      NaN  All residents asked to 'shelter in place' are ...   \n",
       "3    6     NaN      NaN  13,000 people receive #wildfires evacuation or...   \n",
       "4    7     NaN      NaN  Just got sent this photo from Ruby #Alaska as ...   \n",
       "5    8     NaN      NaN  #RockyFire Update => California Hwy. 20 closed...   \n",
       "6   10     NaN      NaN  #flood #disaster Heavy rain causes flash flood...   \n",
       "7   13     NaN      NaN  I'm on top of the hill and I can see a fire in...   \n",
       "8   14     NaN      NaN  There's an emergency evacuation happening now ...   \n",
       "9   15     NaN      NaN  I'm afraid that the tornado is coming to our a...   \n",
       "10  16     NaN      NaN        Three people died from the heat wave so far   \n",
       "11  17     NaN      NaN  Haha South Tampa is getting flooded hah- WAIT ...   \n",
       "12  18     NaN      NaN  #raining #flooding #Florida #TampaBay #Tampa 1...   \n",
       "13  19     NaN      NaN            #Flood in Bago Myanmar #We arrived Bago   \n",
       "14  20     NaN      NaN  Damage to school bus on 80 in multi car crash ...   \n",
       "15  23     NaN      NaN                                     What's up man?   \n",
       "16  24     NaN      NaN                                      I love fruits   \n",
       "17  25     NaN      NaN                                   Summer is lovely   \n",
       "18  26     NaN      NaN                                  My car is so fast   \n",
       "19  28     NaN      NaN                       What a goooooooaaaaaal!!!!!!   \n",
       "\n",
       "    target  \n",
       "0        1  \n",
       "1        1  \n",
       "2        1  \n",
       "3        1  \n",
       "4        1  \n",
       "5        1  \n",
       "6        1  \n",
       "7        1  \n",
       "8        1  \n",
       "9        1  \n",
       "10       1  \n",
       "11       1  \n",
       "12       1  \n",
       "13       1  \n",
       "14       1  \n",
       "15       0  \n",
       "16       0  \n",
       "17       0  \n",
       "18       0  \n",
       "19       0  "
      ]
     },
     "execution_count": 68,
     "metadata": {},
     "output_type": "execute_result"
    }
   ],
   "source": [
    "TRAIN_PATH = Path(\"train.csv\")\n",
    "TEST_PATH = Path(\"test.csv\")\n",
    "\n",
    "train_df = pd.read_csv(TRAIN_PATH)\n",
    "test_df = pd.read_csv(TEST_PATH)\n",
    "\n",
    "print('Training set shape:', train_df.shape)\n",
    "print('Test set shape:', test_df.shape)\n",
    "\n",
    "train_df.head(20)"
   ]
  },
  {
   "cell_type": "code",
   "execution_count": 3,
   "id": "22e3eca8",
   "metadata": {},
   "outputs": [
    {
     "data": {
      "image/png": "[encoded data removed]",
      "text/plain": [
       "<Figure size 640x480 with 1 Axes>"
      ]
     },
     "metadata": {},
     "output_type": "display_data"
    }
   ],
   "source": [
    "sns.countplot(x='target', data=train_df)\n",
    "plt.title('Distribution of Target Variable in Training Dataset')\n",
    "plt.xlabel('Target')\n",
    "plt.ylabel('Frequency')\n",
    "plt.show()"
   ]
  },
  {
   "cell_type": "markdown",
   "id": "c7d5c9f9-c2b4-4708-b67c-3acbd46aa0bf",
   "metadata": {},
   "source": [
    "The training dataset appears balanced; however, we observed some missing values and considerable noise in the `text` data. Therefore, we proceed with data preprocessing."
   ]
  },
  {
   "cell_type": "markdown",
   "id": "a3976909",
   "metadata": {},
   "source": [
    "## 3. Data Preprocessing"
   ]
  },
  {
   "cell_type": "markdown",
   "id": "b0f147df-dd6e-408e-b8f4-bcfb69d8750c",
   "metadata": {},
   "source": [
    "We start with the investigation on the null values in both, train and test datasets:"
   ]
  },
  {
   "cell_type": "code",
   "execution_count": 4,
   "id": "38174005",
   "metadata": {},
   "outputs": [
    {
     "data": {
      "text/plain": [
       "id             0\n",
       "keyword       61\n",
       "location    2533\n",
       "text           0\n",
       "target         0\n",
       "dtype: int64"
      ]
     },
     "execution_count": 4,
     "metadata": {},
     "output_type": "execute_result"
    }
   ],
   "source": [
    "train_df.isnull().sum()"
   ]
  },
  {
   "cell_type": "code",
   "execution_count": 69,
   "id": "446a6bac-bccc-4d9e-9910-d9feac73fc32",
   "metadata": {},
   "outputs": [
    {
     "data": {
      "text/plain": [
       "id             0\n",
       "keyword       26\n",
       "location    1105\n",
       "text           0\n",
       "dtype: int64"
      ]
     },
     "execution_count": 69,
     "metadata": {},
     "output_type": "execute_result"
    }
   ],
   "source": [
    "test_df.isnull().sum()"
   ]
  },
  {
   "cell_type": "markdown",
   "id": "d611a634-f27c-4752-bdcd-67baed2dacfe",
   "metadata": {},
   "source": [
    "We drop rows with missing `keyword` since it's true for less than 1% of data. For `location`, we replace NaN values with *missing*. Since we also expect `location` values to be noisy, we strip whitespaces:"
   ]
  },
  {
   "cell_type": "code",
   "execution_count": 70,
   "id": "03b33af8-786c-4679-93c3-55789a083041",
   "metadata": {},
   "outputs": [],
   "source": [
    "train_df = train_df[~train_df['keyword'].isna()].reset_index(drop=True)\n",
    "# test_df = test_df[~test_df['keyword'].isna()].reset_index(drop=True)\n",
    "\n",
    "train_df['location'] = train_df['location'].fillna('missing')\n",
    "train_df['location'] = train_df['location'].str.strip()\n",
    "\n",
    "# test_df['location'] = test_df['location'].fillna('missing')\n",
    "# test_df['location'] = test_df['location'].str.strip()"
   ]
  },
  {
   "cell_type": "markdown",
   "id": "eb68dea5-4444-4a4b-9c9d-1c166dc0232b",
   "metadata": {},
   "source": [
    "While analyzing the train and test datasets, we observe encoding issues in some of the location entries. To address this, we normalize the data to ensure consistent formatting and correct any character encoding anomalies:"
   ]
  },
  {
   "cell_type": "code",
   "execution_count": 7,
   "id": "8c2e89f9-8eb5-4414-b80f-028499c1f4b6",
   "metadata": {},
   "outputs": [
    {
     "data": {
      "text/html": [
       "<div>\n",
       "<style scoped>\n",
       "    .dataframe tbody tr th:only-of-type {\n",
       "        vertical-align: middle;\n",
       "    }\n",
       "\n",
       "    .dataframe tbody tr th {\n",
       "        vertical-align: top;\n",
       "    }\n",
       "\n",
       "    .dataframe thead th {\n",
       "        text-align: right;\n",
       "    }\n",
       "</style>\n",
       "<table border=\"1\" class=\"dataframe\">\n",
       "  <thead>\n",
       "    <tr style=\"text-align: right;\">\n",
       "      <th></th>\n",
       "      <th>id</th>\n",
       "      <th>keyword</th>\n",
       "      <th>location</th>\n",
       "      <th>text</th>\n",
       "      <th>target</th>\n",
       "    </tr>\n",
       "  </thead>\n",
       "  <tbody>\n",
       "    <tr>\n",
       "      <th>105</th>\n",
       "      <td>196</td>\n",
       "      <td>airplane%20accident</td>\n",
       "      <td>19.600858, -99.047821</td>\n",
       "      <td>Experts in France begin examining airplane deb...</td>\n",
       "      <td>1</td>\n",
       "    </tr>\n",
       "    <tr>\n",
       "      <th>106</th>\n",
       "      <td>197</td>\n",
       "      <td>airplane%20accident</td>\n",
       "      <td>Pennsylvania</td>\n",
       "      <td>Strict liability in the context of an airplane...</td>\n",
       "      <td>1</td>\n",
       "    </tr>\n",
       "    <tr>\n",
       "      <th>107</th>\n",
       "      <td>198</td>\n",
       "      <td>airplane%20accident</td>\n",
       "      <td>Salt Lake City, Utah</td>\n",
       "      <td>@crobscarla your lifetime odds of dying from a...</td>\n",
       "      <td>0</td>\n",
       "    </tr>\n",
       "    <tr>\n",
       "      <th>108</th>\n",
       "      <td>199</td>\n",
       "      <td>airplane%20accident</td>\n",
       "      <td>Palo Alto, CA</td>\n",
       "      <td>Experts in France begin examining airplane deb...</td>\n",
       "      <td>1</td>\n",
       "    </tr>\n",
       "    <tr>\n",
       "      <th>109</th>\n",
       "      <td>201</td>\n",
       "      <td>airplane%20accident</td>\n",
       "      <td>missing</td>\n",
       "      <td>@AlexAllTimeLow awwww they're on an airplane a...</td>\n",
       "      <td>1</td>\n",
       "    </tr>\n",
       "  </tbody>\n",
       "</table>\n",
       "</div>"
      ],
      "text/plain": [
       "      id              keyword               location  \\\n",
       "105  196  airplane%20accident  19.600858, -99.047821   \n",
       "106  197  airplane%20accident           Pennsylvania   \n",
       "107  198  airplane%20accident   Salt Lake City, Utah   \n",
       "108  199  airplane%20accident          Palo Alto, CA   \n",
       "109  201  airplane%20accident                missing   \n",
       "\n",
       "                                                  text  target  \n",
       "105  Experts in France begin examining airplane deb...       1  \n",
       "106  Strict liability in the context of an airplane...       1  \n",
       "107  @crobscarla your lifetime odds of dying from a...       0  \n",
       "108  Experts in France begin examining airplane deb...       1  \n",
       "109  @AlexAllTimeLow awwww they're on an airplane a...       1  "
      ]
     },
     "execution_count": 7,
     "metadata": {},
     "output_type": "execute_result"
    }
   ],
   "source": [
    "_df = train_df[train_df.apply(lambda row: row.astype(str).str.contains('%20').any(), axis=1)]\n",
    "_df.head(5)"
   ]
  },
  {
   "cell_type": "code",
   "execution_count": 71,
   "id": "b3d8a5d0-4a46-4c53-a599-985764b28743",
   "metadata": {},
   "outputs": [],
   "source": [
    "import re \n",
    "\n",
    "def normalize(text):\n",
    "    if pd.isnull(text):\n",
    "        return text\n",
    "    text = unicodedata.normalize('NFKD', str(text))\n",
    "    text = ''.join([c for c in text if not unicodedata.combining(c)])\n",
    "    text = unquote(text)\n",
    "    text = re.sub(r'[^\\x00-\\x7F]+', '', text)\n",
    "    text = text.strip()\n",
    "    text = re.sub(r'\\s+', ' ', text)\n",
    "    return text\n",
    "\n",
    "train_df['keyword'] = train_df['keyword'].apply(normalize)\n",
    "test_df['keyword'] = test_df['keyword'].apply(normalize)\n",
    "\n",
    "train_df['location'] = train_df['location'].apply(normalize)\n",
    "test_df['location'] = test_df['location'].apply(normalize)\n",
    "\n",
    "train_df['text'] = train_df['text'].apply(normalize)\n",
    "test_df['text'] = test_df['text'].apply(normalize)"
   ]
  },
  {
   "cell_type": "markdown",
   "id": "661439e4-3427-43f9-a427-8819e4727bad",
   "metadata": {},
   "source": [
    "We continue to standardize the `location` data. Checking the numbers of unique locations in both datasets, we can observe that the data is noisy:"
   ]
  },
  {
   "cell_type": "code",
   "execution_count": 9,
   "id": "ab8cd76c-b15d-4928-8fd5-4af9d2f52df0",
   "metadata": {},
   "outputs": [
    {
     "name": "stdout",
     "output_type": "stream",
     "text": [
      "3278\n",
      "1586\n"
     ]
    }
   ],
   "source": [
    "print(train_df['location'].nunique())\n",
    "print(test_df['location'].nunique())"
   ]
  },
  {
   "cell_type": "markdown",
   "id": "e2490bd8-2a64-4088-bec2-beb9cfa4c2d7",
   "metadata": {},
   "source": [
    "Next steps:\n",
    "- we handle different namings of the same locations, e.g. *USA*, *US* and *United States*, or *Everywhere* and *World* using the predefined mapping;\n",
    "- since we have locations defined as cities, states and countries, we map all cities, states and coordinates to countries to reduce noise and variance in data:"
   ]
  },
  {
   "cell_type": "code",
   "execution_count": 10,
   "id": "69e5d37e-3da4-438d-9d53-18817ef2cccb",
   "metadata": {},
   "outputs": [],
   "source": [
    "with open('countries_mapping.txt', 'r') as file:\n",
    "    content = file.read()\n",
    "\n",
    "location_to_country = ast.literal_eval(content)"
   ]
  },
  {
   "cell_type": "code",
   "execution_count": 72,
   "id": "78989a9d-05bc-40aa-a5d0-6e9548c6f567",
   "metadata": {},
   "outputs": [],
   "source": [
    "train_df['location'] = train_df['location'].replace(location_to_country)\n",
    "test_df['location'] = test_df['location'].replace(location_to_country)"
   ]
  },
  {
   "cell_type": "code",
   "execution_count": 12,
   "id": "dd942364-1744-423e-808e-4ca4c5f5cccc",
   "metadata": {},
   "outputs": [
    {
     "data": {
      "text/html": [
       "<div>\n",
       "<style scoped>\n",
       "    .dataframe tbody tr th:only-of-type {\n",
       "        vertical-align: middle;\n",
       "    }\n",
       "\n",
       "    .dataframe tbody tr th {\n",
       "        vertical-align: top;\n",
       "    }\n",
       "\n",
       "    .dataframe thead th {\n",
       "        text-align: right;\n",
       "    }\n",
       "</style>\n",
       "<table border=\"1\" class=\"dataframe\">\n",
       "  <thead>\n",
       "    <tr style=\"text-align: right;\">\n",
       "      <th></th>\n",
       "      <th>Location</th>\n",
       "      <th>Count</th>\n",
       "    </tr>\n",
       "  </thead>\n",
       "  <tbody>\n",
       "    <tr>\n",
       "      <th>0</th>\n",
       "      <td>missing</td>\n",
       "      <td>2839</td>\n",
       "    </tr>\n",
       "    <tr>\n",
       "      <th>1</th>\n",
       "      <td>USA</td>\n",
       "      <td>1442</td>\n",
       "    </tr>\n",
       "    <tr>\n",
       "      <th>2</th>\n",
       "      <td>UK</td>\n",
       "      <td>267</td>\n",
       "    </tr>\n",
       "    <tr>\n",
       "      <th>3</th>\n",
       "      <td>Canada</td>\n",
       "      <td>126</td>\n",
       "    </tr>\n",
       "    <tr>\n",
       "      <th>4</th>\n",
       "      <td>Global</td>\n",
       "      <td>89</td>\n",
       "    </tr>\n",
       "  </tbody>\n",
       "</table>\n",
       "</div>"
      ],
      "text/plain": [
       "  Location  Count\n",
       "0  missing   2839\n",
       "1      USA   1442\n",
       "2       UK    267\n",
       "3   Canada    126\n",
       "4   Global     89"
      ]
     },
     "execution_count": 12,
     "metadata": {},
     "output_type": "execute_result"
    }
   ],
   "source": [
    "location_counts_train_df = train_df['location'].value_counts()\n",
    "locations_train_df = location_counts_train_df.reset_index()\n",
    "locations_train_df.columns = ['Location', 'Count']\n",
    "locations_train_df.head()"
   ]
  },
  {
   "cell_type": "code",
   "execution_count": 13,
   "id": "eaf5ffa0-2e8e-4234-b5e7-40b35d6bb845",
   "metadata": {},
   "outputs": [
    {
     "data": {
      "text/html": [
       "<div>\n",
       "<style scoped>\n",
       "    .dataframe tbody tr th:only-of-type {\n",
       "        vertical-align: middle;\n",
       "    }\n",
       "\n",
       "    .dataframe tbody tr th {\n",
       "        vertical-align: top;\n",
       "    }\n",
       "\n",
       "    .dataframe thead th {\n",
       "        text-align: right;\n",
       "    }\n",
       "</style>\n",
       "<table border=\"1\" class=\"dataframe\">\n",
       "  <thead>\n",
       "    <tr style=\"text-align: right;\">\n",
       "      <th></th>\n",
       "      <th>Location</th>\n",
       "      <th>Count</th>\n",
       "    </tr>\n",
       "  </thead>\n",
       "  <tbody>\n",
       "    <tr>\n",
       "      <th>0</th>\n",
       "      <td>missing</td>\n",
       "      <td>1253</td>\n",
       "    </tr>\n",
       "    <tr>\n",
       "      <th>1</th>\n",
       "      <td>USA</td>\n",
       "      <td>751</td>\n",
       "    </tr>\n",
       "    <tr>\n",
       "      <th>2</th>\n",
       "      <td>UK</td>\n",
       "      <td>130</td>\n",
       "    </tr>\n",
       "    <tr>\n",
       "      <th>3</th>\n",
       "      <td>Canada</td>\n",
       "      <td>84</td>\n",
       "    </tr>\n",
       "    <tr>\n",
       "      <th>4</th>\n",
       "      <td>India</td>\n",
       "      <td>40</td>\n",
       "    </tr>\n",
       "  </tbody>\n",
       "</table>\n",
       "</div>"
      ],
      "text/plain": [
       "  Location  Count\n",
       "0  missing   1253\n",
       "1      USA    751\n",
       "2       UK    130\n",
       "3   Canada     84\n",
       "4    India     40"
      ]
     },
     "execution_count": 13,
     "metadata": {},
     "output_type": "execute_result"
    }
   ],
   "source": [
    "location_counts_test_df = test_df['location'].value_counts()\n",
    "locations_test_df = location_counts_test_df.reset_index()\n",
    "locations_test_df.columns = ['Location', 'Count']\n",
    "locations_test_df.head()"
   ]
  },
  {
   "cell_type": "markdown",
   "id": "9992cafb-9d9d-4437-bc4a-950f60894fe6",
   "metadata": {},
   "source": [
    "A reassessment of the `location` data reveals that our cleaning efforts have significantly mitigated noise; however, additional refinement will likely yield further improvements:"
   ]
  },
  {
   "cell_type": "code",
   "execution_count": 73,
   "id": "399b8bc5-2c83-4be2-bd19-50fe627ade57",
   "metadata": {},
   "outputs": [
    {
     "name": "stdout",
     "output_type": "stream",
     "text": [
      "2235\n",
      "753\n"
     ]
    }
   ],
   "source": [
    "print(train_df['location'].nunique())\n",
    "print(test_df['location'].nunique())"
   ]
  },
  {
   "cell_type": "markdown",
   "id": "21bd76ea-b483-43ea-b537-aa504f233815",
   "metadata": {},
   "source": [
    "We plot the preprocessed data taking traning dataset as an example:"
   ]
  },
  {
   "cell_type": "code",
   "execution_count": 15,
   "id": "c47fde1d-09ca-4aaa-a1c5-23e01867e83c",
   "metadata": {},
   "outputs": [
    {
     "data": {
      "image/png": "[encoded data removed]",
      "text/plain": [
       "<Figure size 1000x600 with 1 Axes>"
      ]
     },
     "metadata": {},
     "output_type": "display_data"
    }
   ],
   "source": [
    "plt.figure(figsize=(10, 6))\n",
    "train_df[train_df['location'] != \"missing\"]['location'].value_counts().head(25).plot(kind='bar')\n",
    "\n",
    "plt.title('Top 25 Locations by Frequency (excl. Missing Values)')\n",
    "plt.xlabel('Location')\n",
    "plt.ylabel('Count')\n",
    "plt.xticks(rotation=75)\n",
    "plt.show()"
   ]
  },
  {
   "cell_type": "markdown",
   "id": "c057599f-78b4-42cf-a0dc-ce5e5f0f8533",
   "metadata": {},
   "source": [
    "Next, we clean and simplify text data by fixing contractions, removing URLs, usernames, hashtags, and non-letter characters, then converting everything to lowercase. Afterwards, we split the text into words, remove common stop words, and reduce words to their base forms using lemmatization. Finally, we apply this cleaning process to all text entries in the train and test datasets, creating new columns with the processed text for further analysis:"
   ]
  },
  {
   "cell_type": "code",
   "execution_count": 63,
   "id": "a3edd1e8",
   "metadata": {},
   "outputs": [
    {
     "name": "stderr",
     "output_type": "stream",
     "text": [
      "[nltk_data] Downloading package stopwords to\n",
      "[nltk_data]     /Users/yaroslavilichenko/nltk_data...\n",
      "[nltk_data]   Package stopwords is already up-to-date!\n",
      "[nltk_data] Downloading package wordnet to\n",
      "[nltk_data]     /Users/yaroslavilichenko/nltk_data...\n",
      "[nltk_data]   Package wordnet is already up-to-date!\n",
      "[nltk_data] Downloading package punkt to\n",
      "[nltk_data]     /Users/yaroslavilichenko/nltk_data...\n",
      "[nltk_data]   Package punkt is already up-to-date!\n",
      "[nltk_data] Downloading package punkt_tab to\n",
      "[nltk_data]     /Users/yaroslavilichenko/nltk_data...\n",
      "[nltk_data]   Package punkt_tab is already up-to-date!\n"
     ]
    },
    {
     "data": {
      "text/plain": [
       "True"
      ]
     },
     "execution_count": 63,
     "metadata": {},
     "output_type": "execute_result"
    }
   ],
   "source": [
    "# import sys\n",
    "# !{sys.executable} -m pip install --upgrade contractions\n",
    "import contractions\n",
    "import nltk\n",
    "from nltk.corpus import stopwords\n",
    "from nltk.stem import WordNetLemmatizer\n",
    "nltk.download('stopwords')\n",
    "nltk.download('wordnet')\n",
    "nltk.download('punkt')\n",
    "nltk.download('punkt_tab')"
   ]
  },
  {
   "cell_type": "code",
   "execution_count": 74,
   "id": "1e087a8b-c87d-4ad7-81e0-86435829f45e",
   "metadata": {},
   "outputs": [
    {
     "data": {
      "text/html": [
       "<div>\n",
       "<style scoped>\n",
       "    .dataframe tbody tr th:only-of-type {\n",
       "        vertical-align: middle;\n",
       "    }\n",
       "\n",
       "    .dataframe tbody tr th {\n",
       "        vertical-align: top;\n",
       "    }\n",
       "\n",
       "    .dataframe thead th {\n",
       "        text-align: right;\n",
       "    }\n",
       "</style>\n",
       "<table border=\"1\" class=\"dataframe\">\n",
       "  <thead>\n",
       "    <tr style=\"text-align: right;\">\n",
       "      <th></th>\n",
       "      <th>text</th>\n",
       "      <th>text_preprocessed</th>\n",
       "    </tr>\n",
       "  </thead>\n",
       "  <tbody>\n",
       "    <tr>\n",
       "      <th>0</th>\n",
       "      <td>@bbcmtd Wholesale Markets ablaze http://t.co/l...</td>\n",
       "      <td>wholesale market ablaze</td>\n",
       "    </tr>\n",
       "    <tr>\n",
       "      <th>1</th>\n",
       "      <td>We always try to bring the heavy. #metal #RT h...</td>\n",
       "      <td>always try bring heavy</td>\n",
       "    </tr>\n",
       "    <tr>\n",
       "      <th>2</th>\n",
       "      <td>#AFRICANBAZE: Breaking news:Nigeria flag set a...</td>\n",
       "      <td>breaking newsnigeria flag set ablaze aba</td>\n",
       "    </tr>\n",
       "    <tr>\n",
       "      <th>3</th>\n",
       "      <td>Crying out for more! Set me ablaze</td>\n",
       "      <td>cry set ablaze</td>\n",
       "    </tr>\n",
       "    <tr>\n",
       "      <th>4</th>\n",
       "      <td>On plus side LOOK AT THE SKY LAST NIGHT IT WAS...</td>\n",
       "      <td>plus side look sky last night ablaze</td>\n",
       "    </tr>\n",
       "  </tbody>\n",
       "</table>\n",
       "</div>"
      ],
      "text/plain": [
       "                                                text  \\\n",
       "0  @bbcmtd Wholesale Markets ablaze http://t.co/l...   \n",
       "1  We always try to bring the heavy. #metal #RT h...   \n",
       "2  #AFRICANBAZE: Breaking news:Nigeria flag set a...   \n",
       "3                 Crying out for more! Set me ablaze   \n",
       "4  On plus side LOOK AT THE SKY LAST NIGHT IT WAS...   \n",
       "\n",
       "                          text_preprocessed  \n",
       "0                   wholesale market ablaze  \n",
       "1                    always try bring heavy  \n",
       "2  breaking newsnigeria flag set ablaze aba  \n",
       "3                            cry set ablaze  \n",
       "4      plus side look sky last night ablaze  "
      ]
     },
     "execution_count": 74,
     "metadata": {},
     "output_type": "execute_result"
    }
   ],
   "source": [
    "stop_words = set(stopwords.words('english'))\n",
    "lemmatizer = WordNetLemmatizer()\n",
    "\n",
    "def preprocess(text):\n",
    "    text = contractions.fix(text)\n",
    "    text = re.sub(r'http\\S+', '', text)\n",
    "    text = re.sub(r'@[A-Za-z0-9_]+', '', text)\n",
    "    text = re.sub(r'#[A-Za-z0-9_]+', '', text)\n",
    "    text = re.sub(r'[^a-zA-Z ]', '', text)\n",
    "    text = text.lower()\n",
    "    tokens = nltk.word_tokenize(text)\n",
    "    tokens = [lemmatizer.lemmatize(word) for word in tokens if word not in stop_words]\n",
    "    return ' '.join(tokens)\n",
    "\n",
    "train_df['text_preprocessed'] = train_df['text'].apply(preprocess)\n",
    "test_df['text_preprocessed'] = test_df['text'].apply(preprocess)\n",
    "train_df[['text', 'text_preprocessed']].head()"
   ]
  },
  {
   "cell_type": "markdown",
   "id": "2ba17749-c7c9-49e3-83e6-090991526827",
   "metadata": {},
   "source": [
    "Now we examine the top 20 keywords for each target class separately. We observe that all the keywords are clean and well-formatted, with no noticeable inconsistencies:"
   ]
  },
  {
   "cell_type": "code",
   "execution_count": 18,
   "id": "7f0426a4-366a-49e3-9f4a-84a6e9328656",
   "metadata": {},
   "outputs": [
    {
     "data": {
      "image/png": "[encoded data removed]",
      "text/plain": [
       "<Figure size 1500x500 with 2 Axes>"
      ]
     },
     "metadata": {},
     "output_type": "display_data"
    }
   ],
   "source": [
    "top_keywords_target1 = train_df[train_df['target']==1]['keyword'].value_counts().head(20)\n",
    "top_keywords_target0 = train_df[train_df['target']==0]['keyword'].value_counts().head(20)\n",
    "\n",
    "fig, axs = plt.subplots(1, 2, figsize=(15,5))\n",
    "sns.barplot(x=top_keywords_target1.values, y=top_keywords_target1.index, ax=axs[0])\n",
    "axs[0].set_title('Top 20 Keywords (Disaster Tweets)')\n",
    "axs[0].set_xlabel('Frequency')\n",
    "axs[0].set_ylabel('Keyword')\n",
    "\n",
    "sns.barplot(x=top_keywords_target0.values, y=top_keywords_target0.index, ax=axs[1])\n",
    "axs[1].set_title('Top 20 Keywords (Non-Disaster Tweets)')\n",
    "axs[1].set_xlabel('Frequency')\n",
    "axs[1].set_ylabel('')\n",
    "\n",
    "plt.show()"
   ]
  },
  {
   "cell_type": "markdown",
   "id": "826f985e",
   "metadata": {},
   "source": [
    "## 4. Model Building\n",
    "After we preprocessed the data, we can start building the models. To start with, we define our initial training parameters and then build our first model using TF-IDF features with Logistic Regression:"
   ]
  },
  {
   "cell_type": "code",
   "execution_count": 20,
   "id": "3d481918-8cd6-46ef-91b0-5aab4672e11b",
   "metadata": {},
   "outputs": [],
   "source": [
    "VOCABULARY_SIZE = 10000\n",
    "MAX_ITER = 1000\n",
    "MAX_INPUT_LENGTH = 100\n",
    "EMBEDDING_DIMENSION = 100"
   ]
  },
  {
   "cell_type": "code",
   "execution_count": 21,
   "id": "a6f84620",
   "metadata": {},
   "outputs": [],
   "source": [
    "from sklearn.feature_extraction.text import TfidfVectorizer\n",
    "from sklearn.linear_model import LogisticRegression\n",
    "from sklearn.model_selection import train_test_split\n",
    "from sklearn.metrics import roc_auc_score\n",
    "\n",
    "X_tfidf = train_df['text_preprocessed']\n",
    "y_tfidf = train_df['target']\n",
    "X_train_tfidf, X_val_tfidf, y_train_tfidf, y_val_tfidf = train_test_split(X_tfidf, y_tfidf, test_size = 0.2, random_state = 7)\n",
    "\n",
    "tfidf = TfidfVectorizer(max_features = VOCABULARY_SIZE, ngram_range = (1,2))\n",
    "X_train_tfidf = tfidf.fit_transform(X_train_tfidf)\n",
    "X_val_tfidf = tfidf.transform(X_val_tfidf)\n",
    "\n",
    "lr = LogisticRegression(max_iter = MAX_ITER)"
   ]
  },
  {
   "cell_type": "markdown",
   "id": "f081cce7-f75d-43df-9256-777dbf2f9904",
   "metadata": {},
   "source": [
    "In the next step, we build two models: one using LSTM (Long Short-Term Memory) and the other using GRU (Gated Recurrent Unit) for comparison. As a preparation step, we define a tokenizer and fit it on the preprocessed text, assigning integer IDs to each word based on their frequency. Then, we convert each sentence into a list of these word indices. Finally, we pad all sequences to ensure they have the same length, which is required for feeding them into neural network models. Next, we define the following layers for our models:\n",
    "- **Embedding layer** transforms tokens into dense vectors.\n",
    "- **LSTM/GRU layer** captures sequence dependencies. We use *bidirectional* so LSTM and GRU process the sequences both forward and backward to better understand the sentence structure. We also utilize 64 memory units in one direction, i.e. 128 in total. We also define `dropout`, which cuts some incoming signals from the embedding or previous layer, and `recurrent_dropout`, which cuts some of the LSTM’s memory links during its step-by-step sequence processing – both will help us to prevent overfitting.\n",
    "- **Dense layers** serve as fully connected decision layers. The final `Dense(1, activation='sigmoid')` outputs a probability for binary classification."
   ]
  },
  {
   "cell_type": "code",
   "execution_count": 25,
   "id": "29367da5",
   "metadata": {},
   "outputs": [],
   "source": [
    "from tensorflow.keras import layers, models\n",
    "from tensorflow.keras.preprocessing.text import Tokenizer\n",
    "from tensorflow.keras.preprocessing.sequence import pad_sequences\n",
    "from sklearn.model_selection import train_test_split\n",
    "from sklearn.metrics import roc_auc_score\n",
    "\n",
    "tokenizer = Tokenizer(num_words=VOCABULARY_SIZE)\n",
    "tokenizer.fit_on_texts(train_df['text_preprocessed'])\n",
    "\n",
    "X_lg = tokenizer.texts_to_sequences(train_df['text_preprocessed'])\n",
    "X_lg = pad_sequences(X_lg, maxlen=MAX_INPUT_LENGTH)\n",
    "y_lg = train_df['target'].values\n",
    "\n",
    "X_train_lg, X_val_lg, y_train_lg, y_val_lg = train_test_split(X_lg, y_lg, test_size=0.2, random_state=7)\n",
    "\n",
    "def build_lstm_model(input_length):\n",
    "    model = models.Sequential([\n",
    "        layers.Embedding(input_dim=VOCABULARY_SIZE, output_dim=EMBEDDING_DIMENSION),\n",
    "        layers.Bidirectional(layers.LSTM(64, return_sequences=False, dropout=0.3, recurrent_dropout=0.3)),\n",
    "        layers.Dense(128, activation='relu'),\n",
    "        layers.Dropout(0.5),\n",
    "        layers.Dense(1, activation='sigmoid')\n",
    "    ])\n",
    "    return model\n",
    "\n",
    "lstm_model = build_lstm_model(MAX_INPUT_LENGTH)\n",
    "lstm_model.compile(optimizer='adam', loss='binary_crossentropy', metrics=['auc'])\n",
    "\n",
    "\n",
    "def build_gru_model(input_length):\n",
    "    model = models.Sequential([\n",
    "        layers.Embedding(input_dim=VOCABULARY_SIZE, output_dim=EMBEDDING_DIMENSION),\n",
    "        layers.Bidirectional(layers.GRU(64, return_sequences=False, dropout=0.3, recurrent_dropout=0.3)),\n",
    "        layers.Dense(128, activation='relu'),\n",
    "        layers.Dropout(0.5),\n",
    "        layers.Dense(1, activation='sigmoid')\n",
    "    ])\n",
    "    return model\n",
    "\n",
    "gru_model = build_gru_model(MAX_INPUT_LENGTH)\n",
    "gru_model.compile(optimizer='adam', loss='binary_crossentropy', metrics=['auc'])"
   ]
  },
  {
   "cell_type": "markdown",
   "id": "81660011-4c10-4eaf-93da-14599f71b892",
   "metadata": {},
   "source": [
    "Our final model is built using BERT (Bidirectional Encoder Representations from Transformers), i.e. the **bert-base-en-uncased** version, which is trained on lowercased English text, has 12 layers, and contains 110 million parameters. BERT is an open source machine learning framework for NLP. BERT was developed to help computers understand the meaning of ambiguous language in texts by using the surrounding text to provide context. This makes it particularly valuable for our study.\n",
    "\n",
    "Since BERT expects three separate input components (`token_ids`, `segment_ids`, and `padding_mask`), we cannot use a simple Sequential model. Instead, we use Keras' Functional API to define each input explicitly and feed them as a dictionary to the model. We pass the tokenized input through a pre-trained BERT encoder and use the output corresponding to the `CLS` token — a special token designed to summarize the entire sentence. This embedding is then passed through dense and dropout layers before making a final binary prediction. The code is as follows:"
   ]
  },
  {
   "cell_type": "code",
   "execution_count": 23,
   "id": "2f7a6b30-8181-44eb-bc4c-91ceb293b64b",
   "metadata": {},
   "outputs": [],
   "source": [
    "import keras_nlp\n",
    "import tensorflow as tf\n",
    "from tensorflow.keras import layers, models\n",
    "\n",
    "X_bert = train_df['text_preprocessed']\n",
    "y_bert = train_df['target']\n",
    "X_train_bert, X_val_bert, y_train_bert, y_val_bert = train_test_split(X_bert, y_bert, test_size = 0.2, random_state = 7)\n",
    "\n",
    "preprocessor = keras_nlp.models.BertPreprocessor.from_preset(\n",
    "    'bert_base_en_uncased',\n",
    "    sequence_length=MAX_INPUT_LENGTH)\n",
    "\n",
    "X_bert_processed = preprocessor(X_train_bert)\n",
    "X_val_bert_processed = preprocessor(X_val_bert)\n",
    "\n",
    "def build_bert_model(input_length):\n",
    "    token_ids = layers.Input(shape=(input_length,), dtype=tf.int32, name='token_ids')\n",
    "    segment_ids = layers.Input(shape=(input_length,), dtype=tf.int32, name='segment_ids')\n",
    "    padding_mask = layers.Input(shape=(input_length,), dtype=tf.int32, name='padding_mask')\n",
    "\n",
    "    bert_backbone = keras_nlp.models.BertBackbone.from_preset('bert_base_en_uncased')\n",
    "    bert_backbone.trainable = True\n",
    "\n",
    "    bert_outputs = bert_backbone({\n",
    "        'token_ids': token_ids,\n",
    "        'segment_ids': segment_ids,\n",
    "        'padding_mask': padding_mask\n",
    "    })\n",
    "    cls_token = bert_outputs[\"pooled_output\"]\n",
    "    x = layers.Dense(256, activation='relu')(cls_token)\n",
    "    x = layers.Dropout(0.5)(x)\n",
    "    output = layers.Dense(1, activation='sigmoid')(x)\n",
    "\n",
    "    return models.Model(inputs=[token_ids, segment_ids, padding_mask], outputs=output)\n",
    "\n",
    "bert_model = build_bert_model(MAX_INPUT_LENGTH)\n",
    "bert_model.compile(optimizer=tf.keras.optimizers.Adam(learning_rate=2e-5),\n",
    "                   loss='binary_crossentropy',\n",
    "                   metrics=['auc'])"
   ]
  },
  {
   "cell_type": "markdown",
   "id": "bf9b11bd",
   "metadata": {},
   "source": [
    "## 5. Model Training"
   ]
  },
  {
   "cell_type": "markdown",
   "id": "21ca6d7d-4364-42b5-a9a4-b5bc14cbe043",
   "metadata": {},
   "source": [
    "Since TF-IDF is a batch learning method, we cannot train it in epochs. Thus, we fit the model on the whole dataset. Next, we train our 3 models for 5 epochs with a batch size of 32 to see trends without overcommitting resources:"
   ]
  },
  {
   "cell_type": "code",
   "execution_count": 27,
   "id": "b1f534f0",
   "metadata": {},
   "outputs": [],
   "source": [
    "lr.fit(X_train_tfidf, y_train_tfidf)\n",
    "y_pred_tf_idf = lr.predict(X_val_tfidf)"
   ]
  },
  {
   "cell_type": "code",
   "execution_count": 29,
   "id": "01015737-d19b-44ad-96d3-7db660c6fcc6",
   "metadata": {},
   "outputs": [
    {
     "name": "stdout",
     "output_type": "stream",
     "text": [
      "Epoch 1/5\n",
      "\u001b[1m189/189\u001b[0m \u001b[32m━━━━━━━━━━━━━━━━━━━━\u001b[0m\u001b[37m\u001b[0m \u001b[1m14s\u001b[0m 65ms/step - auc: 0.6235 - loss: 0.6415 - val_auc: 0.8505 - val_loss: 0.4600\n",
      "Epoch 2/5\n",
      "\u001b[1m189/189\u001b[0m \u001b[32m━━━━━━━━━━━━━━━━━━━━\u001b[0m\u001b[37m\u001b[0m \u001b[1m14s\u001b[0m 77ms/step - auc: 0.9082 - loss: 0.3730 - val_auc: 0.8463 - val_loss: 0.4795\n",
      "Epoch 3/5\n",
      "\u001b[1m189/189\u001b[0m \u001b[32m━━━━━━━━━━━━━━━━━━━━\u001b[0m\u001b[37m\u001b[0m \u001b[1m15s\u001b[0m 80ms/step - auc: 0.9626 - loss: 0.2330 - val_auc: 0.8403 - val_loss: 0.5611\n",
      "Epoch 4/5\n",
      "\u001b[1m189/189\u001b[0m \u001b[32m━━━━━━━━━━━━━━━━━━━━\u001b[0m\u001b[37m\u001b[0m \u001b[1m15s\u001b[0m 80ms/step - auc: 0.9760 - loss: 0.1821 - val_auc: 0.8323 - val_loss: 0.6185\n",
      "Epoch 5/5\n",
      "\u001b[1m189/189\u001b[0m \u001b[32m━━━━━━━━━━━━━━━━━━━━\u001b[0m\u001b[37m\u001b[0m \u001b[1m15s\u001b[0m 80ms/step - auc: 0.9868 - loss: 0.1310 - val_auc: 0.8215 - val_loss: 0.6822\n"
     ]
    }
   ],
   "source": [
    "lstm = lstm_model.fit(\n",
    "    X_train_lg, y_train_lg, \n",
    "    epochs=5, \n",
    "    validation_data=(X_val_lg, y_val_lg),\n",
    "    batch_size=32)"
   ]
  },
  {
   "cell_type": "code",
   "execution_count": 30,
   "id": "1a6736a1-91c1-4419-abb7-5b6492300556",
   "metadata": {},
   "outputs": [
    {
     "name": "stdout",
     "output_type": "stream",
     "text": [
      "Epoch 1/5\n",
      "\u001b[1m189/189\u001b[0m \u001b[32m━━━━━━━━━━━━━━━━━━━━\u001b[0m\u001b[37m\u001b[0m \u001b[1m12s\u001b[0m 58ms/step - auc: 0.6399 - loss: 0.6331 - val_auc: 0.8518 - val_loss: 0.4565\n",
      "Epoch 2/5\n",
      "\u001b[1m189/189\u001b[0m \u001b[32m━━━━━━━━━━━━━━━━━━━━\u001b[0m\u001b[37m\u001b[0m \u001b[1m13s\u001b[0m 68ms/step - auc: 0.9243 - loss: 0.3432 - val_auc: 0.8436 - val_loss: 0.4977\n",
      "Epoch 3/5\n",
      "\u001b[1m189/189\u001b[0m \u001b[32m━━━━━━━━━━━━━━━━━━━━\u001b[0m\u001b[37m\u001b[0m \u001b[1m13s\u001b[0m 69ms/step - auc: 0.9651 - loss: 0.2316 - val_auc: 0.8300 - val_loss: 0.5545\n",
      "Epoch 4/5\n",
      "\u001b[1m189/189\u001b[0m \u001b[32m━━━━━━━━━━━━━━━━━━━━\u001b[0m\u001b[37m\u001b[0m \u001b[1m13s\u001b[0m 69ms/step - auc: 0.9795 - loss: 0.1678 - val_auc: 0.8238 - val_loss: 0.6197\n",
      "Epoch 5/5\n",
      "\u001b[1m189/189\u001b[0m \u001b[32m━━━━━━━━━━━━━━━━━━━━\u001b[0m\u001b[37m\u001b[0m \u001b[1m13s\u001b[0m 69ms/step - auc: 0.9865 - loss: 0.1312 - val_auc: 0.8126 - val_loss: 0.6860\n"
     ]
    }
   ],
   "source": [
    "gru = gru_model.fit(\n",
    "    X_train_lg, y_train_lg, \n",
    "    epochs=5, \n",
    "    validation_data=(X_val_lg, y_val_lg),\n",
    "    batch_size=32)"
   ]
  },
  {
   "cell_type": "code",
   "execution_count": 24,
   "id": "ef450065-4ccf-4a64-a411-2b893c3e295b",
   "metadata": {},
   "outputs": [
    {
     "name": "stdout",
     "output_type": "stream",
     "text": [
      "Epoch 1/5\n",
      "\u001b[1m189/189\u001b[0m \u001b[32m━━━━━━━━━━━━━━━━━━━━\u001b[0m\u001b[37m\u001b[0m \u001b[1m1015s\u001b[0m 5s/step - auc: 0.7505 - loss: 0.5700 - val_auc: 0.8863 - val_loss: 0.3986\n",
      "Epoch 2/5\n",
      "\u001b[1m189/189\u001b[0m \u001b[32m━━━━━━━━━━━━━━━━━━━━\u001b[0m\u001b[37m\u001b[0m \u001b[1m1029s\u001b[0m 5s/step - auc: 0.8954 - loss: 0.3821 - val_auc: 0.8823 - val_loss: 0.4096\n",
      "Epoch 3/5\n",
      "\u001b[1m189/189\u001b[0m \u001b[32m━━━━━━━━━━━━━━━━━━━━\u001b[0m\u001b[37m\u001b[0m \u001b[1m1035s\u001b[0m 5s/step - auc: 0.9319 - loss: 0.2989 - val_auc: 0.8800 - val_loss: 0.4506\n",
      "Epoch 4/5\n",
      "\u001b[1m189/189\u001b[0m \u001b[32m━━━━━━━━━━━━━━━━━━━━\u001b[0m\u001b[37m\u001b[0m \u001b[1m1009s\u001b[0m 5s/step - auc: 0.9548 - loss: 0.2369 - val_auc: 0.8685 - val_loss: 0.4787\n",
      "Epoch 5/5\n",
      "\u001b[1m189/189\u001b[0m \u001b[32m━━━━━━━━━━━━━━━━━━━━\u001b[0m\u001b[37m\u001b[0m \u001b[1m1026s\u001b[0m 5s/step - auc: 0.9738 - loss: 0.1837 - val_auc: 0.8585 - val_loss: 0.6666\n"
     ]
    }
   ],
   "source": [
    "bert = bert_model.fit(\n",
    "    x = {'token_ids': X_bert_processed['token_ids'], 'segment_ids': X_bert_processed['segment_ids'], 'padding_mask': X_bert_processed['padding_mask']},\n",
    "    y = y_train_bert,\n",
    "    epochs=5,\n",
    "    validation_data = (\n",
    "        {'token_ids': X_val_bert_processed['token_ids'], 'segment_ids': X_val_bert_processed['segment_ids'], 'padding_mask': X_val_bert_processed['padding_mask']}, \n",
    "        y_val_bert),\n",
    "    batch_size=32)"
   ]
  },
  {
   "cell_type": "markdown",
   "id": "f0054919",
   "metadata": {},
   "source": [
    "## 6. Model Evaluation"
   ]
  },
  {
   "cell_type": "markdown",
   "id": "cc87c462-77e8-48dc-95d6-35c300b9c4d0",
   "metadata": {},
   "source": [
    "Next, we evaluate the model results using AUC metric. We use our TF-IDF and Logistic Regression AUC value as an evaluation baseline and compare model results with it:"
   ]
  },
  {
   "cell_type": "code",
   "execution_count": 38,
   "id": "814fbbd8",
   "metadata": {},
   "outputs": [
    {
     "data": {
      "image/png": "[encoded data removed]",
      "text/plain": [
       "<Figure size 640x480 with 1 Axes>"
      ]
     },
     "metadata": {},
     "output_type": "display_data"
    },
    {
     "data": {
      "image/png": "[encoded data removed]",
      "text/plain": [
       "<Figure size 640x480 with 1 Axes>"
      ]
     },
     "metadata": {},
     "output_type": "display_data"
    },
    {
     "data": {
      "image/png": "[encoded data removed]",
      "text/plain": [
       "<Figure size 640x480 with 1 Axes>"
      ]
     },
     "metadata": {},
     "output_type": "display_data"
    }
   ],
   "source": [
    "auc_tf_idf = roc_auc_score(y_val_tfidf, lr.predict_proba(X_val_tfidf)[:, 1])\n",
    "\n",
    "def plot_auc(model, title):\n",
    "    plt.plot(model.history['auc'], label='Training AUC')\n",
    "    plt.plot(model.history['val_auc'], label='Validation AUC')\n",
    "    plt.axhline(y=auc_tf_idf, color='r', linestyle='--', label=f'Baseline AUC = {auc_tf_idf:.2f}')\n",
    "    plt.title(title)\n",
    "    plt.xlabel('Epoch')\n",
    "    plt.ylabel('AUC')\n",
    "    plt.legend()\n",
    "    plt.show()\n",
    "\n",
    "plot_auc(lstm, 'LSTM Model AUC')\n",
    "plot_auc(gru, 'GRU Model AUC')\n",
    "plot_auc(bert, 'BERT Model AUC')"
   ]
  },
  {
   "cell_type": "code",
   "execution_count": 37,
   "id": "2705b70c-ae74-4532-a8ff-6b63b9c5d7b0",
   "metadata": {},
   "outputs": [
    {
     "name": "stdout",
     "output_type": "stream",
     "text": [
      "\u001b[1m48/48\u001b[0m \u001b[32m━━━━━━━━━━━━━━━━━━━━\u001b[0m\u001b[37m\u001b[0m \u001b[1m1s\u001b[0m 13ms/step\n",
      "\u001b[1m48/48\u001b[0m \u001b[32m━━━━━━━━━━━━━━━━━━━━\u001b[0m\u001b[37m\u001b[0m \u001b[1m1s\u001b[0m 11ms/step\n",
      "\u001b[1m48/48\u001b[0m \u001b[32m━━━━━━━━━━━━━━━━━━━━\u001b[0m\u001b[37m\u001b[0m \u001b[1m84s\u001b[0m 2s/step \n",
      "TF-IDF + LR ROC-AUC: 0.8652707819812095\n",
      "LSTM Model ROC-AUC: 0.8227074625799307\n",
      "GRU Model ROC-AUC: 0.8133426213696282\n",
      "BERT Model ROC-AUC: 0.8633372628871503\n"
     ]
    }
   ],
   "source": [
    "from sklearn.metrics import roc_auc_score\n",
    "\n",
    "y_pred_lstm = lstm_model.predict(X_val_lg).ravel()\n",
    "y_pred_gru = gru_model.predict(X_val_lg).ravel()\n",
    "y_pred_bert = bert_model.predict(X_val_bert_processed).ravel()\n",
    "\n",
    "auc_lstm = roc_auc_score(y_val_lg, y_pred_lstm)\n",
    "auc_gru = roc_auc_score(y_val_lg, y_pred_gru)\n",
    "auc_bert = roc_auc_score(y_val_bert, y_pred_bert)\n",
    "\n",
    "print(f\"TF-IDF + LR ROC-AUC: {auc_tf_idf}\")\n",
    "print(f\"LSTM Model ROC-AUC: {auc_lstm}\")\n",
    "print(f\"GRU Model ROC-AUC: {auc_gru}\")\n",
    "print(f\"BERT Model ROC-AUC: {auc_bert}\")"
   ]
  },
  {
   "cell_type": "markdown",
   "id": "95437353-8d5d-4e52-8eb9-8bbca3166929",
   "metadata": {},
   "source": [
    "Among all the models evaluated, the BERT-based classifier exhibited the most impressive performance, reaching a peak validation ROC-AUC of *0.886*, which is higher than our baseline of *0.865* (TF-IDF + Logistic Regression). Although the LSTM and GRU models initially performed well, they soon began to overfit — their training AUCs increased consistently while validation AUCs declined, indicating a lack of generalization.\n",
    "\n",
    "The traditional TF-IDF model, despite its simplicity, remained competitive and resilient. Nevertheless, BERT not only outperformed it but also delivered more consistent results throughout the epochs.\n",
    "\n",
    "In light of these results, we choose BERT for further optimization, due to its superior performance and its ability to generalize effectively on unseen data."
   ]
  },
  {
   "cell_type": "markdown",
   "id": "909ca4a3-586a-405a-a63c-81ffcc022e7d",
   "metadata": {},
   "source": [
    "## 7. Hyperparameter Tuning for BERT"
   ]
  },
  {
   "cell_type": "markdown",
   "id": "3dcfcd33-88df-48be-8203-c212b0b06910",
   "metadata": {},
   "source": [
    "We tune the following hyperparameters using Keras Tuner:\n",
    "- Dense units: 64–512;\n",
    "- Dropout rate: 0.3–0.7;\n",
    "- Learning rate: 1e-5, 2e-5, 3e-5."
   ]
  },
  {
   "cell_type": "code",
   "execution_count": 39,
   "id": "73496efe-00a7-4859-a43e-82e16893261a",
   "metadata": {},
   "outputs": [
    {
     "name": "stdout",
     "output_type": "stream",
     "text": [
      "Trial 10 Complete [03h 39m 46s]\n",
      "val_auc: 0.8877317309379578\n",
      "\n",
      "Best val_auc So Far: 0.8910093307495117\n",
      "Total elapsed time: 22h 26m 45s\n"
     ]
    }
   ],
   "source": [
    "from keras_tuner import RandomSearch\n",
    "from tensorflow.keras import optimizers\n",
    "\n",
    "def build_bert_model_tuned(hp):\n",
    "    token_ids = layers.Input(shape=(MAX_INPUT_LENGTH,), dtype=tf.int32, name='token_ids')\n",
    "    segment_ids = layers.Input(shape=(MAX_INPUT_LENGTH,), dtype=tf.int32, name='segment_ids')\n",
    "    padding_mask = layers.Input(shape=(MAX_INPUT_LENGTH,), dtype=tf.int32, name='padding_mask')\n",
    "\n",
    "    bert_backbone = keras_nlp.models.BertBackbone.from_preset('bert_base_en_uncased')\n",
    "    bert_backbone.trainable = True\n",
    "\n",
    "    bert_outputs = bert_backbone({\n",
    "        'token_ids': token_ids,\n",
    "        'segment_ids': segment_ids,\n",
    "        'padding_mask': padding_mask})\n",
    "    cls_token = bert_outputs[\"pooled_output\"]\n",
    "\n",
    "    x = layers.Dense(hp.Int('dense_units', min_value=64, max_value=512, step=64), activation='relu')(cls_token)\n",
    "    x = layers.Dropout(hp.Float('dropout_rate', min_value=0.3, max_value=0.7, step=0.1))(x)\n",
    "    output = layers.Dense(1, activation='sigmoid')(x)\n",
    "\n",
    "    model = models.Model(inputs=[token_ids, segment_ids, padding_mask], outputs=output)\n",
    "\n",
    "    model.compile(\n",
    "        optimizer=optimizers.Adam(learning_rate=hp.Choice('learning_rate', [1e-5, 2e-5, 3e-5])),\n",
    "        loss='binary_crossentropy',\n",
    "        metrics=[tf.keras.metrics.AUC(name='auc')])\n",
    "\n",
    "    return model\n",
    "\n",
    "tuner = RandomSearch(\n",
    "    build_bert_model_tuned,\n",
    "    objective='val_auc',\n",
    "    max_trials=10,\n",
    "    executions_per_trial=1,\n",
    "    directory='bert_tuning',\n",
    "    project_name='disaster_tweet')\n",
    "\n",
    "tuner.search(\n",
    "    x={\n",
    "        'token_ids': X_bert_processed['token_ids'],\n",
    "        'segment_ids': X_bert_processed['segment_ids'],\n",
    "        'padding_mask': X_bert_processed['padding_mask']},\n",
    "    y=y_train_bert,\n",
    "    validation_data=({\n",
    "        'token_ids': X_val_bert_processed['token_ids'],\n",
    "        'segment_ids': X_val_bert_processed['segment_ids'],\n",
    "        'padding_mask': X_val_bert_processed['padding_mask']},\n",
    "        y_val_bert),\n",
    "    epochs=5,\n",
    "    batch_size=32)"
   ]
  },
  {
   "cell_type": "code",
   "execution_count": null,
   "id": "d85a81d6-78d5-4661-ba95-e8fa433acc56",
   "metadata": {},
   "outputs": [
    {
     "name": "stdout",
     "output_type": "stream",
     "text": [
      "Best Hyperparameters: {'dense_units': 256, 'dropout_rate': 0.3, 'learning_rate': 3e-05}\n"
     ]
    },
    {
     "name": "stderr",
     "output_type": "stream",
     "text": [
      "/Users/yaroslavilichenko/miniconda3/envs/tensorflow_env/lib/python3.11/site-packages/keras/src/saving/saving_lib.py:757: UserWarning: Skipping variable loading for optimizer 'adam', because it has 2 variables whereas the saved optimizer has 408 variables. \n",
      "  saveable.load_own_variables(weights_store.get(inner_path))\n"
     ]
    }
   ],
   "source": [
    "best_model = tuner.get_best_models(num_models=1)[0]\n",
    "best_hyperparams = tuner.get_best_hyperparameters(1)[0]\n",
    "print(f\"Best Hyperparameters: {best_hyperparams.values}\")"
   ]
  },
  {
   "cell_type": "code",
   "execution_count": null,
   "id": "649b9de7-6495-4c36-898d-32c0214a0cf7",
   "metadata": {},
   "outputs": [
    {
     "name": "stdout",
     "output_type": "stream",
     "text": [
      "Epoch 1/5\n",
      "\u001b[1m189/189\u001b[0m \u001b[32m━━━━━━━━━━━━━━━━━━━━\u001b[0m\u001b[37m\u001b[0m \u001b[1m984s\u001b[0m 5s/step - auc: 0.9485 - loss: 0.2705 - val_auc: 0.8766 - val_loss: 0.5463\n",
      "Epoch 2/5\n",
      "\u001b[1m189/189\u001b[0m \u001b[32m━━━━━━━━━━━━━━━━━━━━\u001b[0m\u001b[37m\u001b[0m \u001b[1m992s\u001b[0m 5s/step - auc: 0.9807 - loss: 0.1704 - val_auc: 0.8706 - val_loss: 0.5904\n",
      "Epoch 3/5\n",
      "\u001b[1m189/189\u001b[0m \u001b[32m━━━━━━━━━━━━━━━━━━━━\u001b[0m\u001b[37m\u001b[0m \u001b[1m976s\u001b[0m 5s/step - auc: 0.9911 - loss: 0.1116 - val_auc: 0.8684 - val_loss: 0.6717\n",
      "Epoch 4/5\n",
      "\u001b[1m189/189\u001b[0m \u001b[32m━━━━━━━━━━━━━━━━━━━━\u001b[0m\u001b[37m\u001b[0m \u001b[1m973s\u001b[0m 5s/step - auc: 0.9940 - loss: 0.0890 - val_auc: 0.8473 - val_loss: 0.8501\n",
      "Epoch 5/5\n",
      "\u001b[1m189/189\u001b[0m \u001b[32m━━━━━━━━━━━━━━━━━━━━\u001b[0m\u001b[37m\u001b[0m \u001b[1m1133s\u001b[0m 6s/step - auc: 0.9944 - loss: 0.0877 - val_auc: 0.8612 - val_loss: 0.7378\n"
     ]
    }
   ],
   "source": [
    "bert_best = best_model.fit(\n",
    "    x={\n",
    "        'token_ids': X_bert_processed['token_ids'],\n",
    "        'segment_ids': X_bert_processed['segment_ids'],\n",
    "        'padding_mask': X_bert_processed['padding_mask']},\n",
    "    y=y_train_bert,\n",
    "    validation_data=({\n",
    "        'token_ids': X_val_bert_processed['token_ids'],\n",
    "        'segment_ids': X_val_bert_processed['segment_ids'],\n",
    "        'padding_mask': X_val_bert_processed['padding_mask']},\n",
    "        y_val_bert),\n",
    "    epochs=5,\n",
    "    batch_size=32)"
   ]
  },
  {
   "cell_type": "code",
   "execution_count": null,
   "id": "ce227e7e-7e9d-4c98-9dcf-71e4c9317911",
   "metadata": {},
   "outputs": [
    {
     "name": "stdout",
     "output_type": "stream",
     "text": [
      "\u001b[1m48/48\u001b[0m \u001b[32m━━━━━━━━━━━━━━━━━━━━\u001b[0m\u001b[37m\u001b[0m \u001b[1m80s\u001b[0m 2s/step \n",
      "BERT Best Model ROC-AUC: 0.8667\n"
     ]
    }
   ],
   "source": [
    "y_pred_bert_best = best_model.predict({\n",
    "    'token_ids': X_val_bert_processed['token_ids'],\n",
    "    'segment_ids': X_val_bert_processed['segment_ids'],\n",
    "    'padding_mask': X_val_bert_processed['padding_mask']\n",
    "})\n",
    "bert_auc_score = roc_auc_score(y_val_bert, y_pred_bert_best)\n",
    "print(f\"BERT Best Model ROC-AUC: {bert_auc_score:.4f}\")"
   ]
  },
  {
   "cell_type": "markdown",
   "id": "df575f27-9573-4b7b-8b49-0225aa8457db",
   "metadata": {},
   "source": [
    "Thus, we could improve the final ROC-AUC value on the validation set *only insignificantly* but the hyperparameter tuning can be still considered successful. This can be also observed on the following plot:"
   ]
  },
  {
   "cell_type": "code",
   "execution_count": null,
   "id": "252cb716-3e2b-4a21-b6cf-cfc296862bee",
   "metadata": {},
   "outputs": [
    {
     "data": {
      "image/png": "[encoded data removed]",
      "text/plain": [
       "<Figure size 640x480 with 1 Axes>"
      ]
     },
     "metadata": {},
     "output_type": "display_data"
    }
   ],
   "source": [
    "plot_auc(bert_best, 'BERT Best Model AUC')"
   ]
  },
  {
   "cell_type": "markdown",
   "id": "fec5beee-ea9e-4fce-beab-19686610a5fc",
   "metadata": {},
   "source": [
    "## 8. Generating Submission File"
   ]
  },
  {
   "cell_type": "markdown",
   "id": "a3ae83d2-224c-48d7-b63b-cbf1b1c2f2e6",
   "metadata": {},
   "source": [
    "We select the tuned BERT model for generating the final submission:"
   ]
  },
  {
   "cell_type": "code",
   "execution_count": 75,
   "id": "ad5d15a4-6078-4f79-8772-ab645d31bb3c",
   "metadata": {},
   "outputs": [
    {
     "name": "stdout",
     "output_type": "stream",
     "text": [
      "\u001b[1m102/102\u001b[0m \u001b[32m━━━━━━━━━━━━━━━━━━━━\u001b[0m\u001b[37m\u001b[0m \u001b[1m169s\u001b[0m 2s/step\n"
     ]
    }
   ],
   "source": [
    "from transformers import AutoTokenizer\n",
    "\n",
    "tokenizer = AutoTokenizer.from_pretrained(\"bert-base-uncased\")\n",
    "test_encodings = tokenizer(\n",
    "    test_df['text_preprocessed'].tolist(),\n",
    "    truncation=True,\n",
    "    padding='max_length',\n",
    "    max_length=MAX_INPUT_LENGTH,\n",
    "    return_tensors='np')\n",
    "\n",
    "test_preds = best_model.predict({\n",
    "    'token_ids': test_encodings['input_ids'],\n",
    "    'segment_ids': test_encodings['token_type_ids'],\n",
    "    'padding_mask': test_encodings['attention_mask']})"
   ]
  },
  {
   "cell_type": "code",
   "execution_count": 79,
   "id": "4c0cc6e1-56f5-4ccc-9c0c-00db00eccba8",
   "metadata": {},
   "outputs": [],
   "source": [
    "preds = (test_preds.flatten() >= 0.5).astype(int)\n",
    "\n",
    "submission_df = pd.DataFrame({'id': test_df['id'], 'target': preds})\n",
    "submission_df.to_csv('submission.csv', index=False)"
   ]
  },
  {
   "cell_type": "markdown",
   "id": "a0307a57",
   "metadata": {},
   "source": [
    "## 9. Conclusion\n",
    "In this study, we created and trained 4 models, a baseline model using TF-IDF with Logistic Regression, an LSTM model, a GRU model, a BERT model, and evaluate their results. While our classical baseline performed competitively, the BERT model showed more robust contextual understanding of text and made more meaningful probability predictions. Therefore, we selected BERT for hyperparameter tuning. With tuned parameters, we further improved the ROC-AUC performance. In the context of this project, the main objective was successfully accomplished. However, more could be considered in the following iterations, e.g.:\n",
    "- deeper cleanup and usage of metadata (like `location`),\n",
    "- leveraging semi-supervised learning with pseudo-labels,\n",
    "- applying advanced tuning techniques such as Bayesian optimization or learning rate schedules."
   ]
  },
  {
   "cell_type": "markdown",
   "id": "3bd788e2-3b8f-40f5-b117-90139f0ce40e",
   "metadata": {},
   "source": [
    "## 10. References"
   ]
  },
  {
   "cell_type": "markdown",
   "id": "8f049402-245a-47a5-8902-6f7adaf45269",
   "metadata": {},
   "source": [
    "- Geena Kim. DTSA 5511 Introduction to Deep Learning\n",
    "- Geeksforgeeks. LSTM: https://www.geeksforgeeks.org/deep-learning-introduction-to-long-short-term-memory/\n",
    "- Geeksforgeeks. GRU Networks: https://www.geeksforgeeks.org/gated-recurrent-unit-networks/\n",
    "- Datacamp. What is BERT? An Intro to BERT Models: https://www.datacamp.com/blog/what-is-bert-an-intro-to-bert-models"
   ]
  }
 ],
 "metadata": {
  "kernelspec": {
   "display_name": "Python 3 (ipykernel)",
   "language": "python",
   "name": "python3"
  },
  "language_info": {
   "codemirror_mode": {
    "name": "ipython",
    "version": 3
   },
   "file_extension": ".py",
   "mimetype": "text/x-python",
   "name": "python",
   "nbconvert_exporter": "python",
   "pygments_lexer": "ipython3",
   "version": "3.11.11"
  }
 },
 "nbformat": 4,
 "nbformat_minor": 5
}
